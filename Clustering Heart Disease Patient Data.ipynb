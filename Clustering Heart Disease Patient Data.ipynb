{
 "cells": [
  {
   "cell_type": "markdown",
   "metadata": {},
   "source": [
    "# Targeting treatment for Heart Disease Patients\n",
    "Clustering algorithms are used to group together items that are similar to one another. There are many industries where it would be beneficial and insightful to use an unsupervised learning algorithm - retailers want to group similar customers for targeted ad campaigns, biologists want to find plants that share similar characteristics, and more. We are going to explore if it would be appropriate to use some clustering algorithms to group medical patients.\n",
    "\n",
    "\n",
    "\n",
    "We are going to look at anonymized patients who have been diagnosed with heart disease. Patients with similar characteristics might respond to the same treatments, and doctors would benefit from learning about the outcomes of patients similar to those they are treating. The data we are analyzing comes from the V.A. Medical Center in Long Beach, CA. For more information, see here.\n",
    "\n",
    "Before beginning a project, it is important to get an idea of what the patient data looks like. In addition, the clustering algorithms used below require that the data be numeric, so it is necessary to ensure the patient data doesn't need any transformations. You will also be brushing up on your base R skills for some analysis."
   ]
  },
  {
   "cell_type": "code",
   "execution_count": 4,
   "metadata": {},
   "outputs": [],
   "source": [
    "heart_disease = read.csv(\"C:/Users/UDAYAN/Desktop/Projects/R/Clustering Heart Disease/heart_disease.csv\")\n"
   ]
  },
  {
   "cell_type": "code",
   "execution_count": 5,
   "metadata": {},
   "outputs": [
    {
     "data": {
      "text/html": [
       "<table>\n",
       "<thead><tr><th scope=col>id</th><th scope=col>age</th><th scope=col>sex</th><th scope=col>cp</th><th scope=col>trestbps</th><th scope=col>chol</th><th scope=col>fbs</th><th scope=col>restecg</th><th scope=col>thalach</th><th scope=col>exang</th><th scope=col>oldpeak</th><th scope=col>slope</th></tr></thead>\n",
       "<tbody>\n",
       "\t<tr><td> 1 </td><td>63 </td><td>1  </td><td>1  </td><td>145</td><td>233</td><td>1  </td><td>2  </td><td>150</td><td>0  </td><td>2.3</td><td>3  </td></tr>\n",
       "\t<tr><td> 2 </td><td>67 </td><td>1  </td><td>4  </td><td>160</td><td>286</td><td>0  </td><td>2  </td><td>108</td><td>1  </td><td>1.5</td><td>2  </td></tr>\n",
       "\t<tr><td> 3 </td><td>67 </td><td>1  </td><td>4  </td><td>120</td><td>229</td><td>0  </td><td>2  </td><td>129</td><td>1  </td><td>2.6</td><td>2  </td></tr>\n",
       "\t<tr><td> 4 </td><td>37 </td><td>1  </td><td>3  </td><td>130</td><td>250</td><td>0  </td><td>0  </td><td>187</td><td>0  </td><td>3.5</td><td>3  </td></tr>\n",
       "\t<tr><td> 5 </td><td>41 </td><td>0  </td><td>2  </td><td>130</td><td>204</td><td>0  </td><td>2  </td><td>172</td><td>0  </td><td>1.4</td><td>1  </td></tr>\n",
       "\t<tr><td> 6 </td><td>56 </td><td>1  </td><td>2  </td><td>120</td><td>236</td><td>0  </td><td>0  </td><td>178</td><td>0  </td><td>0.8</td><td>1  </td></tr>\n",
       "\t<tr><td> 7 </td><td>62 </td><td>0  </td><td>4  </td><td>140</td><td>268</td><td>0  </td><td>2  </td><td>160</td><td>0  </td><td>3.6</td><td>3  </td></tr>\n",
       "\t<tr><td> 8 </td><td>57 </td><td>0  </td><td>4  </td><td>120</td><td>354</td><td>0  </td><td>0  </td><td>163</td><td>1  </td><td>0.6</td><td>1  </td></tr>\n",
       "\t<tr><td> 9 </td><td>63 </td><td>1  </td><td>4  </td><td>130</td><td>254</td><td>0  </td><td>2  </td><td>147</td><td>0  </td><td>1.4</td><td>2  </td></tr>\n",
       "\t<tr><td>10 </td><td>53 </td><td>1  </td><td>4  </td><td>140</td><td>203</td><td>1  </td><td>2  </td><td>155</td><td>1  </td><td>3.1</td><td>3  </td></tr>\n",
       "</tbody>\n",
       "</table>\n"
      ],
      "text/latex": [
       "\\begin{tabular}{r|llllllllllll}\n",
       " id & age & sex & cp & trestbps & chol & fbs & restecg & thalach & exang & oldpeak & slope\\\\\n",
       "\\hline\n",
       "\t  1  & 63  & 1   & 1   & 145 & 233 & 1   & 2   & 150 & 0   & 2.3 & 3  \\\\\n",
       "\t  2  & 67  & 1   & 4   & 160 & 286 & 0   & 2   & 108 & 1   & 1.5 & 2  \\\\\n",
       "\t  3  & 67  & 1   & 4   & 120 & 229 & 0   & 2   & 129 & 1   & 2.6 & 2  \\\\\n",
       "\t  4  & 37  & 1   & 3   & 130 & 250 & 0   & 0   & 187 & 0   & 3.5 & 3  \\\\\n",
       "\t  5  & 41  & 0   & 2   & 130 & 204 & 0   & 2   & 172 & 0   & 1.4 & 1  \\\\\n",
       "\t  6  & 56  & 1   & 2   & 120 & 236 & 0   & 0   & 178 & 0   & 0.8 & 1  \\\\\n",
       "\t  7  & 62  & 0   & 4   & 140 & 268 & 0   & 2   & 160 & 0   & 3.6 & 3  \\\\\n",
       "\t  8  & 57  & 0   & 4   & 120 & 354 & 0   & 0   & 163 & 1   & 0.6 & 1  \\\\\n",
       "\t  9  & 63  & 1   & 4   & 130 & 254 & 0   & 2   & 147 & 0   & 1.4 & 2  \\\\\n",
       "\t 10  & 53  & 1   & 4   & 140 & 203 & 1   & 2   & 155 & 1   & 3.1 & 3  \\\\\n",
       "\\end{tabular}\n"
      ],
      "text/markdown": [
       "\n",
       "| id | age | sex | cp | trestbps | chol | fbs | restecg | thalach | exang | oldpeak | slope |\n",
       "|---|---|---|---|---|---|---|---|---|---|---|---|\n",
       "|  1  | 63  | 1   | 1   | 145 | 233 | 1   | 2   | 150 | 0   | 2.3 | 3   |\n",
       "|  2  | 67  | 1   | 4   | 160 | 286 | 0   | 2   | 108 | 1   | 1.5 | 2   |\n",
       "|  3  | 67  | 1   | 4   | 120 | 229 | 0   | 2   | 129 | 1   | 2.6 | 2   |\n",
       "|  4  | 37  | 1   | 3   | 130 | 250 | 0   | 0   | 187 | 0   | 3.5 | 3   |\n",
       "|  5  | 41  | 0   | 2   | 130 | 204 | 0   | 2   | 172 | 0   | 1.4 | 1   |\n",
       "|  6  | 56  | 1   | 2   | 120 | 236 | 0   | 0   | 178 | 0   | 0.8 | 1   |\n",
       "|  7  | 62  | 0   | 4   | 140 | 268 | 0   | 2   | 160 | 0   | 3.6 | 3   |\n",
       "|  8  | 57  | 0   | 4   | 120 | 354 | 0   | 0   | 163 | 1   | 0.6 | 1   |\n",
       "|  9  | 63  | 1   | 4   | 130 | 254 | 0   | 2   | 147 | 0   | 1.4 | 2   |\n",
       "| 10  | 53  | 1   | 4   | 140 | 203 | 1   | 2   | 155 | 1   | 3.1 | 3   |\n",
       "\n"
      ],
      "text/plain": [
       "   id age sex cp trestbps chol fbs restecg thalach exang oldpeak slope\n",
       "1   1 63  1   1  145      233  1   2       150     0     2.3     3    \n",
       "2   2 67  1   4  160      286  0   2       108     1     1.5     2    \n",
       "3   3 67  1   4  120      229  0   2       129     1     2.6     2    \n",
       "4   4 37  1   3  130      250  0   0       187     0     3.5     3    \n",
       "5   5 41  0   2  130      204  0   2       172     0     1.4     1    \n",
       "6   6 56  1   2  120      236  0   0       178     0     0.8     1    \n",
       "7   7 62  0   4  140      268  0   2       160     0     3.6     3    \n",
       "8   8 57  0   4  120      354  0   0       163     1     0.6     1    \n",
       "9   9 63  1   4  130      254  0   2       147     0     1.4     2    \n",
       "10 10 53  1   4  140      203  1   2       155     1     3.1     3    "
      ]
     },
     "metadata": {},
     "output_type": "display_data"
    }
   ],
   "source": [
    "head(heart_disease, 10)"
   ]
  },
  {
   "cell_type": "code",
   "execution_count": 7,
   "metadata": {},
   "outputs": [
    {
     "data": {
      "text/html": [
       "<dl>\n",
       "\t<dt>$id</dt>\n",
       "\t\t<dd>'integer'</dd>\n",
       "\t<dt>$age</dt>\n",
       "\t\t<dd>'integer'</dd>\n",
       "\t<dt>$sex</dt>\n",
       "\t\t<dd>'integer'</dd>\n",
       "\t<dt>$cp</dt>\n",
       "\t\t<dd>'integer'</dd>\n",
       "\t<dt>$trestbps</dt>\n",
       "\t\t<dd>'integer'</dd>\n",
       "\t<dt>$chol</dt>\n",
       "\t\t<dd>'integer'</dd>\n",
       "\t<dt>$fbs</dt>\n",
       "\t\t<dd>'integer'</dd>\n",
       "\t<dt>$restecg</dt>\n",
       "\t\t<dd>'integer'</dd>\n",
       "\t<dt>$thalach</dt>\n",
       "\t\t<dd>'integer'</dd>\n",
       "\t<dt>$exang</dt>\n",
       "\t\t<dd>'integer'</dd>\n",
       "\t<dt>$oldpeak</dt>\n",
       "\t\t<dd>'numeric'</dd>\n",
       "\t<dt>$slope</dt>\n",
       "\t\t<dd>'integer'</dd>\n",
       "</dl>\n"
      ],
      "text/latex": [
       "\\begin{description}\n",
       "\\item[\\$id] 'integer'\n",
       "\\item[\\$age] 'integer'\n",
       "\\item[\\$sex] 'integer'\n",
       "\\item[\\$cp] 'integer'\n",
       "\\item[\\$trestbps] 'integer'\n",
       "\\item[\\$chol] 'integer'\n",
       "\\item[\\$fbs] 'integer'\n",
       "\\item[\\$restecg] 'integer'\n",
       "\\item[\\$thalach] 'integer'\n",
       "\\item[\\$exang] 'integer'\n",
       "\\item[\\$oldpeak] 'numeric'\n",
       "\\item[\\$slope] 'integer'\n",
       "\\end{description}\n"
      ],
      "text/markdown": [
       "$id\n",
       ":   'integer'\n",
       "$age\n",
       ":   'integer'\n",
       "$sex\n",
       ":   'integer'\n",
       "$cp\n",
       ":   'integer'\n",
       "$trestbps\n",
       ":   'integer'\n",
       "$chol\n",
       ":   'integer'\n",
       "$fbs\n",
       ":   'integer'\n",
       "$restecg\n",
       ":   'integer'\n",
       "$thalach\n",
       ":   'integer'\n",
       "$exang\n",
       ":   'integer'\n",
       "$oldpeak\n",
       ":   'numeric'\n",
       "$slope\n",
       ":   'integer'\n",
       "\n",
       "\n"
      ],
      "text/plain": [
       "$id\n",
       "[1] \"integer\"\n",
       "\n",
       "$age\n",
       "[1] \"integer\"\n",
       "\n",
       "$sex\n",
       "[1] \"integer\"\n",
       "\n",
       "$cp\n",
       "[1] \"integer\"\n",
       "\n",
       "$trestbps\n",
       "[1] \"integer\"\n",
       "\n",
       "$chol\n",
       "[1] \"integer\"\n",
       "\n",
       "$fbs\n",
       "[1] \"integer\"\n",
       "\n",
       "$restecg\n",
       "[1] \"integer\"\n",
       "\n",
       "$thalach\n",
       "[1] \"integer\"\n",
       "\n",
       "$exang\n",
       "[1] \"integer\"\n",
       "\n",
       "$oldpeak\n",
       "[1] \"numeric\"\n",
       "\n",
       "$slope\n",
       "[1] \"integer\"\n"
      ]
     },
     "metadata": {},
     "output_type": "display_data"
    }
   ],
   "source": [
    "lapply(heart_disease, class)"
   ]
  },
  {
   "cell_type": "markdown",
   "metadata": {},
   "source": [
    "# Quantifying Patient Differences\n",
    "It is important to conduct some exploratory data analysis to familiarize ourselves with the data before clustering. This will help us learn more about the variables and make an informed decision about whether we should scale the data. Because k-means and hierarchical clustering measures similarity between points using a distance formula, it can place extra emphasis on certain variables that have a larger scale and thus larger differences between points.\n",
    "\n",
    "Exploratory data analysis helps us to understand the characteristics of the patients in the data. We need to get an idea of the value ranges of the variables and their distributions. This will also be helpful when we evaluate the clusters of patients from the algorithms. Are there more patients of one gender? What might an outlier look like?"
   ]
  },
  {
   "cell_type": "code",
   "execution_count": 8,
   "metadata": {},
   "outputs": [
    {
     "data": {
      "text/plain": [
       "       id             age             sex               cp       \n",
       " Min.   :  1.0   Min.   :29.00   Min.   :0.0000   Min.   :1.000  \n",
       " 1st Qu.: 76.5   1st Qu.:48.00   1st Qu.:0.0000   1st Qu.:3.000  \n",
       " Median :152.0   Median :56.00   Median :1.0000   Median :3.000  \n",
       " Mean   :152.0   Mean   :54.44   Mean   :0.6799   Mean   :3.158  \n",
       " 3rd Qu.:227.5   3rd Qu.:61.00   3rd Qu.:1.0000   3rd Qu.:4.000  \n",
       " Max.   :303.0   Max.   :77.00   Max.   :1.0000   Max.   :4.000  \n",
       "    trestbps          chol            fbs            restecg      \n",
       " Min.   : 94.0   Min.   :126.0   Min.   :0.0000   Min.   :0.0000  \n",
       " 1st Qu.:120.0   1st Qu.:211.0   1st Qu.:0.0000   1st Qu.:0.0000  \n",
       " Median :130.0   Median :241.0   Median :0.0000   Median :1.0000  \n",
       " Mean   :131.7   Mean   :246.7   Mean   :0.1485   Mean   :0.9901  \n",
       " 3rd Qu.:140.0   3rd Qu.:275.0   3rd Qu.:0.0000   3rd Qu.:2.0000  \n",
       " Max.   :200.0   Max.   :564.0   Max.   :1.0000   Max.   :2.0000  \n",
       "    thalach          exang           oldpeak         slope      \n",
       " Min.   : 71.0   Min.   :0.0000   Min.   :0.00   Min.   :1.000  \n",
       " 1st Qu.:133.5   1st Qu.:0.0000   1st Qu.:0.00   1st Qu.:1.000  \n",
       " Median :153.0   Median :0.0000   Median :0.80   Median :2.000  \n",
       " Mean   :149.6   Mean   :0.3267   Mean   :1.04   Mean   :1.601  \n",
       " 3rd Qu.:166.0   3rd Qu.:1.0000   3rd Qu.:1.60   3rd Qu.:2.000  \n",
       " Max.   :202.0   Max.   :1.0000   Max.   :6.20   Max.   :3.000  "
      ]
     },
     "metadata": {},
     "output_type": "display_data"
    }
   ],
   "source": [
    "summary(heart_disease)"
   ]
  },
  {
   "cell_type": "code",
   "execution_count": 10,
   "metadata": {},
   "outputs": [],
   "source": [
    "heart_disease = heart_disease[, !(names(heart_disease) %in% c('id'))]\n",
    "scaled = scale(heart_disease)"
   ]
  },
  {
   "cell_type": "code",
   "execution_count": 11,
   "metadata": {},
   "outputs": [
    {
     "data": {
      "text/plain": [
       "      age               sex                cp             trestbps       \n",
       " Min.   :-2.8145   Min.   :-1.4549   Min.   :-2.2481   Min.   :-2.14149  \n",
       " 1st Qu.:-0.7124   1st Qu.:-1.4549   1st Qu.:-0.1650   1st Qu.:-0.66420  \n",
       " Median : 0.1727   Median : 0.6851   Median :-0.1650   Median :-0.09601  \n",
       " Mean   : 0.0000   Mean   : 0.0000   Mean   : 0.0000   Mean   : 0.00000  \n",
       " 3rd Qu.: 0.7259   3rd Qu.: 0.6851   3rd Qu.: 0.8765   3rd Qu.: 0.47218  \n",
       " Max.   : 2.4961   Max.   : 0.6851   Max.   : 0.8765   Max.   : 3.88132  \n",
       "      chol              fbs             restecg             thalach       \n",
       " Min.   :-2.3310   Min.   :-0.4169   Min.   :-0.995103   Min.   :-3.4364  \n",
       " 1st Qu.:-0.6894   1st Qu.:-0.4169   1st Qu.:-0.995103   1st Qu.:-0.7041  \n",
       " Median :-0.1100   Median :-0.4169   Median : 0.009951   Median : 0.1483  \n",
       " Mean   : 0.0000   Mean   : 0.0000   Mean   : 0.000000   Mean   : 0.0000  \n",
       " 3rd Qu.: 0.5467   3rd Qu.:-0.4169   3rd Qu.: 1.015005   3rd Qu.: 0.7166  \n",
       " Max.   : 6.1283   Max.   : 2.3905   Max.   : 1.015005   Max.   : 2.2904  \n",
       "     exang            oldpeak            slope        \n",
       " Min.   :-0.6955   Min.   :-0.8954   Min.   :-0.9747  \n",
       " 1st Qu.:-0.6955   1st Qu.:-0.8954   1st Qu.:-0.9747  \n",
       " Median :-0.6955   Median :-0.2064   Median : 0.6480  \n",
       " Mean   : 0.0000   Mean   : 0.0000   Mean   : 0.0000  \n",
       " 3rd Qu.: 1.4331   3rd Qu.: 0.4827   3rd Qu.: 0.6480  \n",
       " Max.   : 1.4331   Max.   : 4.4445   Max.   : 2.2708  "
      ]
     },
     "metadata": {},
     "output_type": "display_data"
    }
   ],
   "source": [
    "summary(scaled)"
   ]
  },
  {
   "cell_type": "markdown",
   "metadata": {},
   "source": [
    "# Grouping Patients\n",
    "Once we've figured out if we need to modify the data and made any necessary changes, we can now start the clustering process. For the k-means algorithm, it is necessary to select the number of clusters in advance.\n",
    "\n",
    "It is also important to make sure that your results are reproducible when conducting a statistical analysis. This means that when someone runs your code on the same data, they will get the same results as you reported. Therefore, if you're conducting an analysis that has a random aspect, it is necessary to set a seed to ensure reproducibility.\n",
    "\n",
    "Reproducibility is especially important since doctors will potentially be using our results to treat patients. It is vital that another analyst can see where the groups come from and be able to verify the results."
   ]
  },
  {
   "cell_type": "code",
   "execution_count": 12,
   "metadata": {},
   "outputs": [],
   "source": [
    "seed_val = 10\n",
    "set.seed(seed_val)"
   ]
  },
  {
   "cell_type": "code",
   "execution_count": 13,
   "metadata": {},
   "outputs": [
    {
     "data": {
      "text/html": [
       "<ol class=list-inline>\n",
       "\t<li>66</li>\n",
       "\t<li>43</li>\n",
       "\t<li>88</li>\n",
       "\t<li>61</li>\n",
       "\t<li>45</li>\n",
       "</ol>\n"
      ],
      "text/latex": [
       "\\begin{enumerate*}\n",
       "\\item 66\n",
       "\\item 43\n",
       "\\item 88\n",
       "\\item 61\n",
       "\\item 45\n",
       "\\end{enumerate*}\n"
      ],
      "text/markdown": [
       "1. 66\n",
       "2. 43\n",
       "3. 88\n",
       "4. 61\n",
       "5. 45\n",
       "\n",
       "\n"
      ],
      "text/plain": [
       "[1] 66 43 88 61 45"
      ]
     },
     "metadata": {},
     "output_type": "display_data"
    }
   ],
   "source": [
    "k = 5\n",
    "first_clus = kmeans(scaled, centers = k, nstart = 1)\n",
    "first_clus$size"
   ]
  },
  {
   "cell_type": "markdown",
   "metadata": {},
   "source": [
    "# Another round of k-means\n",
    "Because the k-means algorithm initially selects the cluster centers by randomly selecting points, different iterations of the algorithm can result in different clusters being created. If the algorithm is truly grouping together similar observations (as opposed to clustering noise), then cluster assignments will be somewhat robust between different iterations of the algorithm.\n",
    "\n",
    "With regards to the heart disease data, this would mean that the same patients would be grouped together even when the algorithm is initialized at different random points. If patients are not in similar clusters with various algorithm runs, then the clustering method isn't picking up on meaningful relationships between patients.\n",
    "\n",
    "We're going to explore how the patients are grouped together with another iteration of the k-means algorithm. We will then be able to compare the resulting groups of patients."
   ]
  },
  {
   "cell_type": "code",
   "execution_count": 14,
   "metadata": {},
   "outputs": [],
   "source": [
    "seed_val = 38\n",
    "set.seed(seed_val)"
   ]
  },
  {
   "cell_type": "code",
   "execution_count": 16,
   "metadata": {},
   "outputs": [
    {
     "data": {
      "text/html": [
       "<ol class=list-inline>\n",
       "\t<li>21</li>\n",
       "\t<li>63</li>\n",
       "\t<li>99</li>\n",
       "\t<li>24</li>\n",
       "\t<li>96</li>\n",
       "</ol>\n"
      ],
      "text/latex": [
       "\\begin{enumerate*}\n",
       "\\item 21\n",
       "\\item 63\n",
       "\\item 99\n",
       "\\item 24\n",
       "\\item 96\n",
       "\\end{enumerate*}\n"
      ],
      "text/markdown": [
       "1. 21\n",
       "2. 63\n",
       "3. 99\n",
       "4. 24\n",
       "5. 96\n",
       "\n",
       "\n"
      ],
      "text/plain": [
       "[1] 21 63 99 24 96"
      ]
     },
     "metadata": {},
     "output_type": "display_data"
    }
   ],
   "source": [
    "k = 5\n",
    "second_clus = kmeans(scaled, k, nstart = 1)\n",
    "second_clus$size"
   ]
  },
  {
   "cell_type": "markdown",
   "metadata": {},
   "source": [
    "# Comparing Patient Clusters\n",
    "It is important that the clusters resulting from the k-means algorithm are stable. Even though the algorithm begins by randomly initializing the cluster centers, if the k-means algorithm is the right choice for the data, then different initializations of the algorithm will result in similar clusters.\n",
    "\n",
    "The clusters from different iterations may not be exactly the same, but the clusters should be roughly the same size and have similar distributions of variables. If there is a lot of change in clusters between different iterations of the algorithm, then k-means clustering is not a good choice for the data.\n",
    "\n",
    "It is not possible to validate that the clusters obtained from an algorithm are ground truth are accurate since there is no true labeling for patients. Thus, it is necessary to examine how the clusters change between different iterations of the algorithm. We're going to use some visualizations to get an idea of the cluster stabilities. That way we can see how certain patient characteristics may have been used to group patients together."
   ]
  },
  {
   "cell_type": "code",
   "execution_count": 17,
   "metadata": {},
   "outputs": [],
   "source": [
    "heart_disease['first_clus'] = first_clus$cluster\n",
    "heart_disease['second_clus'] = second_clus$cluster"
   ]
  },
  {
   "cell_type": "code",
   "execution_count": 18,
   "metadata": {},
   "outputs": [],
   "source": [
    "library(ggplot2)"
   ]
  },
  {
   "cell_type": "code",
   "execution_count": 35,
   "metadata": {},
   "outputs": [
    {
     "data": {
      "image/png": "[encoded data removed]",
      "text/plain": [
       "plot without title"
      ]
     },
     "metadata": {},
     "output_type": "display_data"
    }
   ],
   "source": [
    "plot_one = ggplot(heart_disease, aes(x = age, y=chol, color=as.factor(first_clus))) + geom_point()\n",
    "plot_one"
   ]
  },
  {
   "cell_type": "code",
   "execution_count": 23,
   "metadata": {},
   "outputs": [
    {
     "data": {
      "image/png": "[encoded data removed]",
      "text/plain": [
       "plot without title"
      ]
     },
     "metadata": {},
     "output_type": "display_data"
    }
   ],
   "source": [
    "plot_two = ggplot(heart_disease, aes(x = age, y=chol, color=as.factor(second_clus))) + geom_point()\n",
    "plot_two"
   ]
  },
  {
   "cell_type": "markdown",
   "metadata": {},
   "source": [
    "# Hierarchical Clustering: Round One\n",
    "An alternative to k-means clustering is hierarchical clustering. This method works well when the data has a nested structure. It is possible that the data from heart disease patients follows this type of structure. For example, if men are more likely to exhibit certain characteristics, those characteristics might be nested inside the gender variable. Hierarchical clustering also does not require the number of clusters to be selected prior to running the algorithm.\n",
    "\n",
    "Clusters can be selected by using the dendrogram. The dendrogram allows one to see how similar observations are to one another and are useful in selecting the number of clusters to group the data. It is now time for us to see how hierarchical clustering groups the data."
   ]
  },
  {
   "cell_type": "markdown",
   "metadata": {},
   "source": [
    "hier_clust_1 = hclust(dist(scaled), method = 'complete')\n",
    "plot(hier_clust_1)\n",
    "hc_1_assign = cutree(hier_clust_1, 5)"
   ]
  },
  {
   "cell_type": "code",
   "execution_count": null,
   "metadata": {},
   "outputs": [],
   "source": []
  },
  {
   "cell_type": "markdown",
   "metadata": {},
   "source": [
    "# Hierarchical Clustering: Round Two\n",
    "In hierarchical clustering, there are multiple ways to measure the dissimilarity between clusters of observations. Complete linkage records the largest dissimilarity between any two points in the two clusters being compared. On the other hand, single linkage is the smallest dissimilarity between any two points in the clusters. Different linkages will result in different clusters being formed.\n",
    "\n",
    "We want to explore different algorithms to group our heart disease patients. The best way to measure dissimilarity between patients could be to look at the smallest difference between patients and minimize that difference when grouping together clusters. It is always a good idea to explore different dissimilarity measures. Let's implement hierarchical clustering using a new linkage function."
   ]
  },
  {
   "cell_type": "code",
   "execution_count": 27,
   "metadata": {},
   "outputs": [
    {
     "data": {
      "image/png": "[encoded data removed]",
      "text/plain": [
       "Plot with title \"Cluster Dendrogram\""
      ]
     },
     "metadata": {},
     "output_type": "display_data"
    }
   ],
   "source": [
    "hier_clust_2 = hclust(dist(scaled), method = 'single')\n",
    "plot(hier_clust_2)\n",
    "hc_2_assign = cutree(hier_clust_2, 5)"
   ]
  },
  {
   "cell_type": "markdown",
   "metadata": {},
   "source": [
    "# Comparing Clustering Results\n",
    "The doctors are interested in grouping similar patients together in order to determine appropriate treatments. Therefore, they want to have clusters with more than a few patients to see different treatment options. While it is possible for a patient to be in a cluster by themselves, this means that the treatment they received might not be recommended for someone else in the group.\n",
    "\n",
    "As with the k-means algorithm, the way to evaluate the clusters is to investigate which patients are being grouped together. Are there patterns evident in the cluster assignments or do they seem to be groups of noise? We're going to examine the clusters resulting from the two hierarchical algorithms."
   ]
  },
  {
   "cell_type": "code",
   "execution_count": 29,
   "metadata": {},
   "outputs": [],
   "source": [
    "heart_disease['hc_clust'] = hc_1_assign"
   ]
  },
  {
   "cell_type": "code",
   "execution_count": 30,
   "metadata": {},
   "outputs": [],
   "source": [
    "hd_simple = heart_disease[, !(names(heart_disease) %in% c('sex', 'first_clust', 'second_clust'))]"
   ]
  },
  {
   "cell_type": "code",
   "execution_count": 31,
   "metadata": {},
   "outputs": [
    {
     "data": {
      "text/html": [
       "<table>\n",
       "<thead><tr><th scope=col>hc_clust</th><th scope=col>age.avg</th><th scope=col>age.sd</th><th scope=col>cp.avg</th><th scope=col>cp.sd</th><th scope=col>trestbps.avg</th><th scope=col>trestbps.sd</th><th scope=col>chol.avg</th><th scope=col>chol.sd</th><th scope=col>fbs.avg</th><th scope=col>...</th><th scope=col>exang.avg</th><th scope=col>exang.sd</th><th scope=col>oldpeak.avg</th><th scope=col>oldpeak.sd</th><th scope=col>slope.avg</th><th scope=col>slope.sd</th><th scope=col>first_clus.avg</th><th scope=col>first_clus.sd</th><th scope=col>second_clus.avg</th><th scope=col>second_clus.sd</th></tr></thead>\n",
       "<tbody>\n",
       "\t<tr><td>1         </td><td>51.41667  </td><td>8.540979  </td><td>2.783333  </td><td>0.9470625 </td><td>129.1389  </td><td>15.93800  </td><td>239.8722  </td><td>42.29228  </td><td>0.1222222 </td><td>...       </td><td>0.07777778</td><td>0.2685686 </td><td>0.555000  </td><td>0.7847196 </td><td>1.388889  </td><td>0.5730336 </td><td>3.450000  </td><td>0.9987422 </td><td>2.872222  </td><td>0.8121326 </td></tr>\n",
       "\t<tr><td>2         </td><td>58.11111  </td><td>7.754246  </td><td>3.763889  </td><td>0.6165112 </td><td>130.0417  </td><td>13.90657  </td><td>253.2222  </td><td>49.74476  </td><td>0.1805556 </td><td>...       </td><td>0.81944444</td><td>0.3873488 </td><td>1.451389  </td><td>1.0804268 </td><td>1.750000  </td><td>0.5240686 </td><td>2.069444  </td><td>1.3974463 </td><td>4.125000  </td><td>1.4721595 </td></tr>\n",
       "\t<tr><td>3         </td><td>61.00000  </td><td>3.908034  </td><td>3.916667  </td><td>0.2886751 </td><td>168.5000  </td><td>17.45904  </td><td>284.9167  </td><td>53.00336  </td><td>0.3333333 </td><td>...       </td><td>0.75000000</td><td>0.4522670 </td><td>2.316667  </td><td>1.4708274 </td><td>2.166667  </td><td>0.5773503 </td><td>2.833333  </td><td>1.2673045 </td><td>3.416667  </td><td>1.9752253 </td></tr>\n",
       "\t<tr><td>4         </td><td>59.00000  </td><td>9.203580  </td><td>3.571429  </td><td>0.8501112 </td><td>134.7714  </td><td>18.64070  </td><td>233.8571  </td><td>49.67136  </td><td>0.1428571 </td><td>...       </td><td>0.48571429</td><td>0.5070926 </td><td>2.240000  </td><td>1.3856831 </td><td>2.200000  </td><td>0.4058397 </td><td>1.914286  </td><td>1.4219173 </td><td>4.428571  </td><td>1.4201432 </td></tr>\n",
       "\t<tr><td>5         </td><td>64.75000  </td><td>2.061553  </td><td>3.250000  </td><td>0.5000000 </td><td>138.7500  </td><td>18.42779  </td><td>433.7500  </td><td>89.93470  </td><td>0.2500000 </td><td>...       </td><td>0.00000000</td><td>0.0000000 </td><td>1.100000  </td><td>0.3829708 </td><td>1.500000  </td><td>0.5773503 </td><td>3.500000  </td><td>1.0000000 </td><td>2.500000  </td><td>1.0000000 </td></tr>\n",
       "</tbody>\n",
       "</table>\n"
      ],
      "text/latex": [
       "\\begin{tabular}{r|lllllllllllllllllllllllll}\n",
       " hc\\_clust & age.avg & age.sd & cp.avg & cp.sd & trestbps.avg & trestbps.sd & chol.avg & chol.sd & fbs.avg & ... & exang.avg & exang.sd & oldpeak.avg & oldpeak.sd & slope.avg & slope.sd & first\\_clus.avg & first\\_clus.sd & second\\_clus.avg & second\\_clus.sd\\\\\n",
       "\\hline\n",
       "\t 1          & 51.41667   & 8.540979   & 2.783333   & 0.9470625  & 129.1389   & 15.93800   & 239.8722   & 42.29228   & 0.1222222  & ...        & 0.07777778 & 0.2685686  & 0.555000   & 0.7847196  & 1.388889   & 0.5730336  & 3.450000   & 0.9987422  & 2.872222   & 0.8121326 \\\\\n",
       "\t 2          & 58.11111   & 7.754246   & 3.763889   & 0.6165112  & 130.0417   & 13.90657   & 253.2222   & 49.74476   & 0.1805556  & ...        & 0.81944444 & 0.3873488  & 1.451389   & 1.0804268  & 1.750000   & 0.5240686  & 2.069444   & 1.3974463  & 4.125000   & 1.4721595 \\\\\n",
       "\t 3          & 61.00000   & 3.908034   & 3.916667   & 0.2886751  & 168.5000   & 17.45904   & 284.9167   & 53.00336   & 0.3333333  & ...        & 0.75000000 & 0.4522670  & 2.316667   & 1.4708274  & 2.166667   & 0.5773503  & 2.833333   & 1.2673045  & 3.416667   & 1.9752253 \\\\\n",
       "\t 4          & 59.00000   & 9.203580   & 3.571429   & 0.8501112  & 134.7714   & 18.64070   & 233.8571   & 49.67136   & 0.1428571  & ...        & 0.48571429 & 0.5070926  & 2.240000   & 1.3856831  & 2.200000   & 0.4058397  & 1.914286   & 1.4219173  & 4.428571   & 1.4201432 \\\\\n",
       "\t 5          & 64.75000   & 2.061553   & 3.250000   & 0.5000000  & 138.7500   & 18.42779   & 433.7500   & 89.93470   & 0.2500000  & ...        & 0.00000000 & 0.0000000  & 1.100000   & 0.3829708  & 1.500000   & 0.5773503  & 3.500000   & 1.0000000  & 2.500000   & 1.0000000 \\\\\n",
       "\\end{tabular}\n"
      ],
      "text/markdown": [
       "\n",
       "| hc_clust | age.avg | age.sd | cp.avg | cp.sd | trestbps.avg | trestbps.sd | chol.avg | chol.sd | fbs.avg | ... | exang.avg | exang.sd | oldpeak.avg | oldpeak.sd | slope.avg | slope.sd | first_clus.avg | first_clus.sd | second_clus.avg | second_clus.sd |\n",
       "|---|---|---|---|---|---|---|---|---|---|---|---|---|---|---|---|---|---|---|---|---|\n",
       "| 1          | 51.41667   | 8.540979   | 2.783333   | 0.9470625  | 129.1389   | 15.93800   | 239.8722   | 42.29228   | 0.1222222  | ...        | 0.07777778 | 0.2685686  | 0.555000   | 0.7847196  | 1.388889   | 0.5730336  | 3.450000   | 0.9987422  | 2.872222   | 0.8121326  |\n",
       "| 2          | 58.11111   | 7.754246   | 3.763889   | 0.6165112  | 130.0417   | 13.90657   | 253.2222   | 49.74476   | 0.1805556  | ...        | 0.81944444 | 0.3873488  | 1.451389   | 1.0804268  | 1.750000   | 0.5240686  | 2.069444   | 1.3974463  | 4.125000   | 1.4721595  |\n",
       "| 3          | 61.00000   | 3.908034   | 3.916667   | 0.2886751  | 168.5000   | 17.45904   | 284.9167   | 53.00336   | 0.3333333  | ...        | 0.75000000 | 0.4522670  | 2.316667   | 1.4708274  | 2.166667   | 0.5773503  | 2.833333   | 1.2673045  | 3.416667   | 1.9752253  |\n",
       "| 4          | 59.00000   | 9.203580   | 3.571429   | 0.8501112  | 134.7714   | 18.64070   | 233.8571   | 49.67136   | 0.1428571  | ...        | 0.48571429 | 0.5070926  | 2.240000   | 1.3856831  | 2.200000   | 0.4058397  | 1.914286   | 1.4219173  | 4.428571   | 1.4201432  |\n",
       "| 5          | 64.75000   | 2.061553   | 3.250000   | 0.5000000  | 138.7500   | 18.42779   | 433.7500   | 89.93470   | 0.2500000  | ...        | 0.00000000 | 0.0000000  | 1.100000   | 0.3829708  | 1.500000   | 0.5773503  | 3.500000   | 1.0000000  | 2.500000   | 1.0000000  |\n",
       "\n"
      ],
      "text/plain": [
       "  hc_clust age.avg  age.sd   cp.avg   cp.sd     trestbps.avg trestbps.sd\n",
       "1 1        51.41667 8.540979 2.783333 0.9470625 129.1389     15.93800   \n",
       "2 2        58.11111 7.754246 3.763889 0.6165112 130.0417     13.90657   \n",
       "3 3        61.00000 3.908034 3.916667 0.2886751 168.5000     17.45904   \n",
       "4 4        59.00000 9.203580 3.571429 0.8501112 134.7714     18.64070   \n",
       "5 5        64.75000 2.061553 3.250000 0.5000000 138.7500     18.42779   \n",
       "  chol.avg chol.sd  fbs.avg   ... exang.avg  exang.sd  oldpeak.avg oldpeak.sd\n",
       "1 239.8722 42.29228 0.1222222 ... 0.07777778 0.2685686 0.555000    0.7847196 \n",
       "2 253.2222 49.74476 0.1805556 ... 0.81944444 0.3873488 1.451389    1.0804268 \n",
       "3 284.9167 53.00336 0.3333333 ... 0.75000000 0.4522670 2.316667    1.4708274 \n",
       "4 233.8571 49.67136 0.1428571 ... 0.48571429 0.5070926 2.240000    1.3856831 \n",
       "5 433.7500 89.93470 0.2500000 ... 0.00000000 0.0000000 1.100000    0.3829708 \n",
       "  slope.avg slope.sd  first_clus.avg first_clus.sd second_clus.avg\n",
       "1 1.388889  0.5730336 3.450000       0.9987422     2.872222       \n",
       "2 1.750000  0.5240686 2.069444       1.3974463     4.125000       \n",
       "3 2.166667  0.5773503 2.833333       1.2673045     3.416667       \n",
       "4 2.200000  0.4058397 1.914286       1.4219173     4.428571       \n",
       "5 1.500000  0.5773503 3.500000       1.0000000     2.500000       \n",
       "  second_clus.sd\n",
       "1 0.8121326     \n",
       "2 1.4721595     \n",
       "3 1.9752253     \n",
       "4 1.4201432     \n",
       "5 1.0000000     "
      ]
     },
     "metadata": {},
     "output_type": "display_data"
    }
   ],
   "source": [
    "clust_summary = do.call(data.frame, aggregate(. ~hc_clust, data = hd_simple, function(x) c(avg = mean(x), sd = sd(x))))\n",
    "clust_summary"
   ]
  },
  {
   "cell_type": "markdown",
   "metadata": {},
   "source": [
    "# Visualizing the Cluster Contents\n",
    "In addition to looking at the distributions of variables in each of the hierarchical clustering run, we will make visualizations to evaluate the algorithms. Even though the data has more than two dimensions, we can get an idea of how the data clusters by looking at a scatterplot of two variables. We want to look for patterns that appear in the data and see what patients get clustered together."
   ]
  },
  {
   "cell_type": "code",
   "execution_count": 32,
   "metadata": {},
   "outputs": [
    {
     "data": {
      "image/png": "[encoded data removed]",
      "text/plain": [
       "plot without title"
      ]
     },
     "metadata": {},
     "output_type": "display_data"
    }
   ],
   "source": [
    "plot_one = ggplot(hd_simple, aes(x=age, y=chol, color=as.factor(hc_clust))) + geom_point()\n",
    "plot_one"
   ]
  },
  {
   "cell_type": "code",
   "execution_count": 33,
   "metadata": {},
   "outputs": [
    {
     "data": {
      "image/png": "[encoded data removed]",
      "text/plain": [
       "plot without title"
      ]
     },
     "metadata": {},
     "output_type": "display_data"
    }
   ],
   "source": [
    "plot_two = ggplot(hd_simple, aes(oldpeak, trestbps, color=as.factor(hc_clust))) + geom_point()\n",
    "plot_two"
   ]
  },
  {
   "cell_type": "markdown",
   "metadata": {},
   "source": [
    "# Conclusion\n",
    "Now that we've tried out multiple clustering algorithms, it is necessary to determine if we think any of them will work for clustering our patients. For the k-means algorithm, it is imperative that similar clusters are produced for each iteration of the algorithm. We want to make sure that the algorithm is clustering signal as opposed to noise.\n",
    "\n",
    "For the sake of the doctors, we also want to have multiple patients in each group so they can compare treatments. We only did some preliminary work to explore the performance of the algorithms. It is necessary to create more visualizations and explore how the algorithms group other variables. Based on the above analysis, are there any algorithms that you would want to investigate further to group patients? Remember that it is important the k-mean algorithm seems stable when running multiple iterations."
   ]
  },
  {
   "cell_type": "code",
   "execution_count": 36,
   "metadata": {},
   "outputs": [],
   "source": [
    "explore_kmeans = F\n",
    "explore_hierarch_complete = T\n",
    "explore_hierarch_single = F"
   ]
  }
 ],
 "metadata": {
  "kernelspec": {
   "display_name": "R",
   "language": "R",
   "name": "ir"
  },
  "language_info": {
   "codemirror_mode": "r",
   "file_extension": ".r",
   "mimetype": "text/x-r-source",
   "name": "R",
   "pygments_lexer": "r",
   "version": "3.6.1"
  }
 },
 "nbformat": 4,
 "nbformat_minor": 4
}
